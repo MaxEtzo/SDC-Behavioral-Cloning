{
 "cells": [
  {
   "cell_type": "code",
   "execution_count": 1,
   "metadata": {
    "scrolled": false
   },
   "outputs": [],
   "source": [
    "import csv\n",
    "import cv2\n",
    "import numpy as np\n",
    "import matplotlib.pyplot as plt\n",
    "from sklearn.utils import shuffle\n",
    "\n",
    "metadata = []\n",
    "with open('data/driving_log.csv') as csvfile:\n",
    "    reader = csv.reader(csvfile)\n",
    "    for line in reader:\n",
    "        metadata.append(line)\n",
    "\n",
    "metadata  = np.array(metadata)\n",
    "\n",
    "angles    = []# for histogram\n",
    "for line in metadata:\n",
    "    alpha  = float(line[3])\n",
    "    angles.append(alpha)\n",
    "\n",
    "bin_no = 100\n",
    "plt.figure(0)\n",
    "hobj = plt.hist(angles, bins=bin_no)\n",
    "bin_cnt = hobj[0] # bin size\n",
    "bin_bnd = hobj[1] # bin boundaries/ edges\n",
    "limit  = 200\n",
    "def unbias_dataset(metadata, limit=limit):\n",
    "    '''function reduces bias by reducing number of samples for frequent steering angles to a limit'''\n",
    "    sample_no = len(metadata)\n",
    "    unbiased_md = np.empty([0, metadata.shape[1]], dtype = metadata.dtype)\n",
    "    for i in range(bin_no):\n",
    "        subset = np.array([metadata[j] for j in range(sample_no) if angles[j] >= bin_bnd[i] and angles[j] < bin_bnd[i+1]])\n",
    "        if bin_cnt[i] <= limit:\n",
    "            unbiased_md = np.append(unbiased_md, subset, axis=0)\n",
    "        else:\n",
    "            rand_idx = np.random.choice([idx for idx in range(len(subset))], limit, replace=False)\n",
    "            unbiased_md = np.append(unbiased_md, subset[rand_idx,:], axis=0)\n",
    "    unbiased_md = shuffle(unbiased_md)\n",
    "    return unbiased_md\n",
    "\n",
    "unbiased_md = unbias_dataset(metadata)\n",
    "plt.figure(1)\n",
    "hobj = plt.hist(np.float32(unbiased_md[:,3]), bins=bin_no)\n",
    "bin_cnt = hobj[0] # bin size\n",
    "bin_bnd = hobj[1] # bin boundaries/ edges"
   ]
  },
  {
   "cell_type": "code",
   "execution_count": 2,
   "metadata": {},
   "outputs": [
    {
     "data": {
      "image/png": "[encoded data removed]",
      "text/plain": [
       "<matplotlib.figure.Figure at 0x2a58e9ad080>"
      ]
     },
     "metadata": {},
     "output_type": "display_data"
    },
    {
     "data": {
      "image/png": "[encoded data removed]",
      "text/plain": [
       "<matplotlib.figure.Figure at 0x2a58eb50208>"
      ]
     },
     "metadata": {},
     "output_type": "display_data"
    }
   ],
   "source": [
    "# only angles with samples < limit / 2 will be flipped \n",
    "# as we are using generators, histogram below is purely for illustration purposes.\n",
    "unbiased_ang   = np.float32(unbiased_md[:,3])\n",
    "plt.figure(0)\n",
    "hobj = plt.hist(unbiased_ang, bins=bin_no)\n",
    "\n",
    "from math import floor\n",
    "augmented_ang = []\n",
    "for alpha in unbiased_ang:\n",
    "    augmented_ang.append(alpha)\n",
    "    augmented_ang.append(alpha*-1)\n",
    "\n",
    "plt.figure(1)\n",
    "hobj_aug = plt.hist(augmented_ang, bins=bin_no)\n"
   ]
  },
  {
   "cell_type": "code",
   "execution_count": 3,
   "metadata": {},
   "outputs": [],
   "source": [
    "nsamples  = len(unbiased_md)\n",
    "# selecting random validation data (0.2)\n",
    "valid_idx = np.random.choice([idx for idx in range(nsamples)],int(0.2*nsamples), replace=False)\n",
    "valid_md  = unbiased_md[valid_idx]\n",
    "# selecting rest as training data (0.8)\n",
    "train_idx = [idx for idx in range(nsamples) if idx not in valid_idx]\n",
    "train_md  = unbiased_md[train_idx]\n",
    "\n",
    "def steering_correction(steering_center):\n",
    "    '''function applies steering correction for left and right cameras'''\n",
    "    correction_factor = 0.15\n",
    "    steering_center = steering_center\n",
    "    steering_left = steering_center + correction_factor\n",
    "    steering_right = steering_center - correction_factor\n",
    "    if steering_center > 0:\n",
    "        steering_left = max(steering_left, steering_center * 2)\n",
    "        steering_right = min(steering_right, steering_center / 2)\n",
    "    elif steering_center < 0:\n",
    "        steering_left = max(steering_left, steering_center / 2)\n",
    "        steering_right = min(steering_right, steering_center * 2)\n",
    "   \n",
    "    return steering_left, steering_right\n",
    "\n",
    "def train_generator(train_md, batch_size=128):\n",
    "    num_samples = len(train_md)   \n",
    "    while True:\n",
    "        train_md = shuffle(train_md)\n",
    "        for offset in range(0, num_samples, batch_size):\n",
    "            train_batch = train_md[offset:offset+batch_size]\n",
    "            images       = []\n",
    "            measurements = []\n",
    "            for line in train_batch:\n",
    "                steering_center = float(line[3])\n",
    "                steering_left, steering_right   = steering_correction(steering_center)\n",
    "                \n",
    "                # read all center, left and right exactly in that order\n",
    "                for i in range(3):\n",
    "                    source_path = line[i]\n",
    "                    filename = source_path.split('\\\\')[-1]\n",
    "                    current_path = 'data/IMG/' + filename\n",
    "                    image = cv2.imread(current_path)\n",
    "                    images.append(image)\n",
    "                    # flip the image for augmentation\n",
    "                    images.append(cv2.flip(image,1))\n",
    "                # add steering values. Note: every second image is flipped!\n",
    "                measurements.extend([steering_center, steering_center*-1.0, steering_left, steering_left*-1.0, steering_right, steering_right*-1.0])\n",
    "            X_train = np.array(images)\n",
    "            y_train = np.array(measurements)            \n",
    "            yield shuffle(X_train, y_train)\n",
    "\n",
    "def valid_generator(valid_md, batch_size=128):\n",
    "    num_samples = len(valid_md)   \n",
    "    while True:\n",
    "        valid_md = shuffle(valid_md)\n",
    "        for offset in range(0, num_samples, batch_size):\n",
    "            valid_batch = valid_md[offset:offset+batch_size]\n",
    "            images       = []\n",
    "            measurements = []\n",
    "            for line in valid_batch:\n",
    "                steering_center = float(line[3])\n",
    "                steering_left, steering_right   = steering_correction(steering_center)\n",
    "\n",
    "                # read all center, left and right exactly in that order\n",
    "                for i in range(3):\n",
    "                    source_path = line[i]\n",
    "                    filename = source_path.split('\\\\')[-1]\n",
    "                    current_path = 'data/IMG/' + filename\n",
    "                    image = cv2.imread(current_path)\n",
    "                    images.append(image)\n",
    "                    # flip the image for augmentation\n",
    "                    images.append(cv2.flip(image,1))\n",
    "                # add steering values. Note: every second image is flipped!\n",
    "                measurements.extend([steering_center, steering_center*-1.0, steering_left, steering_left*-1.0, steering_right, steering_right*-1.0])\n",
    "            X_valid = np.array(images)\n",
    "            y_valid = np.array(measurements)            \n",
    "            yield shuffle(X_valid, y_valid)"
   ]
  },
  {
   "cell_type": "code",
   "execution_count": 4,
   "metadata": {},
   "outputs": [
    {
     "data": {
      "text/plain": [
       "(array([   82.,    11.,    11.,     7.,    25.,    14.,    18.,    23.,\n",
       "           21.,    31.,    26.,    16.,    29.,    60.,    31.,    81.,\n",
       "           77.,    33.,    37.,    43.,    32.,    56.,    71.,    77.,\n",
       "           74.,   223.,   102.,   128.,   143.,   165.,   179.,   219.,\n",
       "          241.,   323.,   229.,   251.,   334.,   457.,   437.,   553.,\n",
       "          628.,   942.,   989.,  1479.,  1653.,  1972.,  2046.,  1844.,\n",
       "         2135.,  2014.,  2406.,  2135.,  1844.,  2046.,  1972.,  1653.,\n",
       "         1479.,   989.,   942.,   628.,   553.,   437.,   457.,   334.,\n",
       "          251.,   229.,   323.,   241.,   219.,   179.,   165.,   143.,\n",
       "          128.,   102.,   118.,   179.,    77.,    71.,    56.,    32.,\n",
       "           43.,    37.,    33.,    77.,    81.,    31.,    60.,    29.,\n",
       "           16.,    26.,    31.,    21.,    23.,    18.,    14.,    25.,\n",
       "            7.,    11.,    11.,    82.]),\n",
       " array([-2.  , -1.96, -1.92, -1.88, -1.84, -1.8 , -1.76, -1.72, -1.68,\n",
       "        -1.64, -1.6 , -1.56, -1.52, -1.48, -1.44, -1.4 , -1.36, -1.32,\n",
       "        -1.28, -1.24, -1.2 , -1.16, -1.12, -1.08, -1.04, -1.  , -0.96,\n",
       "        -0.92, -0.88, -0.84, -0.8 , -0.76, -0.72, -0.68, -0.64, -0.6 ,\n",
       "        -0.56, -0.52, -0.48, -0.44, -0.4 , -0.36, -0.32, -0.28, -0.24,\n",
       "        -0.2 , -0.16, -0.12, -0.08, -0.04,  0.  ,  0.04,  0.08,  0.12,\n",
       "         0.16,  0.2 ,  0.24,  0.28,  0.32,  0.36,  0.4 ,  0.44,  0.48,\n",
       "         0.52,  0.56,  0.6 ,  0.64,  0.68,  0.72,  0.76,  0.8 ,  0.84,\n",
       "         0.88,  0.92,  0.96,  1.  ,  1.04,  1.08,  1.12,  1.16,  1.2 ,\n",
       "         1.24,  1.28,  1.32,  1.36,  1.4 ,  1.44,  1.48,  1.52,  1.56,\n",
       "         1.6 ,  1.64,  1.68,  1.72,  1.76,  1.8 ,  1.84,  1.88,  1.92,\n",
       "         1.96,  2.  ]),\n",
       " <a list of 100 Patch objects>)"
      ]
     },
     "execution_count": 4,
     "metadata": {},
     "output_type": "execute_result"
    },
    {
     "data": {
      "image/png": "[encoded data removed]",
      "text/plain": [
       "<matplotlib.figure.Figure at 0x2a58ecfee48>"
      ]
     },
     "metadata": {},
     "output_type": "display_data"
    }
   ],
   "source": [
    "# below we demonstrate steering angle distribution after steering correction for left and right cameras\n",
    "from math import floor\n",
    "\n",
    "extended_ang = []\n",
    "for alpha in augmented_ang:\n",
    "    extended_ang.append(alpha)\n",
    "    steering_left, steering_right = steering_correction(alpha)\n",
    "    extended_ang.append(steering_left)\n",
    "    extended_ang.append(steering_right)\n",
    "    \n",
    "plt.figure(0)\n",
    "plt.hist(extended_ang, bins=bin_no)\n"
   ]
  },
  {
   "cell_type": "code",
   "execution_count": 5,
   "metadata": {
    "scrolled": false
   },
   "outputs": [
    {
     "name": "stderr",
     "output_type": "stream",
     "text": [
      "Using TensorFlow backend.\n"
     ]
    },
    {
     "name": "stdout",
     "output_type": "stream",
     "text": [
      "WARNING:tensorflow:From C:\\Users\\mkule\\Anaconda3\\envs\\carnd-term1-gpu\\lib\\site-packages\\keras\\backend\\tensorflow_backend.py:1005: calling reduce_sum (from tensorflow.python.ops.math_ops) with keep_dims is deprecated and will be removed in a future version.\n",
      "Instructions for updating:\n",
      "keep_dims is deprecated, use keepdims instead\n",
      "WARNING:tensorflow:From C:\\Users\\mkule\\Anaconda3\\envs\\carnd-term1-gpu\\lib\\site-packages\\keras\\backend\\tensorflow_backend.py:1023: calling reduce_prod (from tensorflow.python.ops.math_ops) with keep_dims is deprecated and will be removed in a future version.\n",
      "Instructions for updating:\n",
      "keep_dims is deprecated, use keepdims instead\n",
      "WARNING:tensorflow:From C:\\Users\\mkule\\Anaconda3\\envs\\carnd-term1-gpu\\lib\\site-packages\\keras\\backend\\tensorflow_backend.py:1084: calling reduce_mean (from tensorflow.python.ops.math_ops) with keep_dims is deprecated and will be removed in a future version.\n",
      "Instructions for updating:\n",
      "keep_dims is deprecated, use keepdims instead\n",
      "Epoch 1/10\n",
      "5376/5565 [===========================>..] - ETA: 0s - loss: 0.5528"
     ]
    },
    {
     "name": "stderr",
     "output_type": "stream",
     "text": [
      "C:\\Users\\mkule\\Anaconda3\\envs\\carnd-term1-gpu\\lib\\site-packages\\keras\\engine\\training.py:1569: UserWarning: Epoch comprised more than `samples_per_epoch` samples, which might affect learning results. Set `samples_per_epoch` correctly to avoid this warning.\n",
      "  warnings.warn('Epoch comprised more than '\n"
     ]
    },
    {
     "name": "stdout",
     "output_type": "stream",
     "text": [
      "5760/5565 [===============================] - 19s - loss: 0.5467 - val_loss: 0.4380\n",
      "Epoch 2/10\n",
      "5760/5565 [===============================] - 14s - loss: 0.3940 - val_loss: 0.3624\n",
      "Epoch 3/10\n",
      "5760/5565 [===============================] - 13s - loss: 0.3166 - val_loss: 0.2928\n",
      "Epoch 4/10\n",
      "5760/5565 [===============================] - 13s - loss: 0.2960 - val_loss: 0.2603\n",
      "Epoch 5/10\n",
      "5760/5565 [===============================] - 13s - loss: 0.2611 - val_loss: 0.2274\n",
      "Epoch 6/10\n",
      "5742/5565 [==============================] - 15s - loss: 0.2326 - val_loss: 0.2449\n",
      "Epoch 7/10\n",
      "5760/5565 [===============================] - 13s - loss: 0.2271 - val_loss: 0.1908\n",
      "Epoch 8/10\n",
      "5760/5565 [===============================] - 14s - loss: 0.2032 - val_loss: 0.2106\n",
      "Epoch 9/10\n",
      "5760/5565 [===============================] - 13s - loss: 0.1945 - val_loss: 0.2157\n",
      "Epoch 10/10\n",
      "5760/5565 [===============================] - 13s - loss: 0.2025 - val_loss: 0.1751\n",
      "dict_keys(['val_loss', 'loss'])\n"
     ]
    },
    {
     "data": {
      "image/png": "[encoded data removed]",
      "text/plain": [
       "<matplotlib.figure.Figure at 0x2a59a372b70>"
      ]
     },
     "metadata": {},
     "output_type": "display_data"
    }
   ],
   "source": [
    "from keras.models import Sequential\n",
    "from keras.layers import Flatten, Dense, Lambda, Convolution2D, Dropout\n",
    "from keras.layers import Cropping2D\n",
    "from keras.regularizers import l2, activity_l2\n",
    "\n",
    "model = Sequential()\n",
    "model.add(Cropping2D(cropping=((65,25), (0,0)), input_shape=(160,320,3)))\n",
    "model.add(Lambda(lambda x: x / 255.0 - 0.5))\n",
    "model.add(Convolution2D(24,5,5,subsample=(2,2),activation='relu',W_regularizer=l2(0.001)))\n",
    "model.add(Convolution2D(36,5,5,subsample=(2,2),activation='relu',W_regularizer=l2(0.001)))\n",
    "model.add(Convolution2D(48,5,5,subsample=(2,2),activation='relu',W_regularizer=l2(0.001)))\n",
    "model.add(Convolution2D(64,3,3,activation='relu',W_regularizer=l2(0.001)))\n",
    "model.add(Convolution2D(64,3,3,activation='relu',W_regularizer=l2(0.001)))\n",
    "model.add(Flatten())\n",
    "model.add(Dropout(0.5))\n",
    "model.add(Dense(100,W_regularizer=l2(0.001)))\n",
    "model.add(Dense(50,W_regularizer=l2(0.001)))\n",
    "model.add(Dense(10,W_regularizer=l2(0.001)))\n",
    "model.add(Dense(1))\n",
    "model.compile(loss='mse', optimizer='adam')\n",
    "\n",
    "BATCH_SIZE  = 64\n",
    "num_train   = len(train_md) \n",
    "num_valid   = len(valid_md)\n",
    "train_gen   = train_generator(train_md, BATCH_SIZE)\n",
    "valid_gen   = train_generator(valid_md, BATCH_SIZE)\n",
    "history_object = model.fit_generator(train_gen, validation_data=valid_gen, samples_per_epoch=num_train, nb_val_samples=num_valid, nb_worker=1, nb_epoch=10, verbose=1)\n",
    "model.save('model.h5')\n",
    "\n",
    "### print the keys contained in the history object\n",
    "print(history_object.history.keys())\n",
    "\n",
    "### plot the training anad validation loss for each epoch\n",
    "plt.plot(history_object.history['loss'])\n",
    "plt.plot(history_object.history['val_loss'])\n",
    "plt.title('model mean squared error loss')\n",
    "plt.ylabel('mean squared error loss')\n",
    "plt.xlabel('epoch')\n",
    "plt.legend(['training set', 'validation set'], loc='upper right')\n",
    "plt.show()"
   ]
  },
  {
   "cell_type": "code",
   "execution_count": null,
   "metadata": {},
   "outputs": [],
   "source": []
  },
  {
   "cell_type": "code",
   "execution_count": null,
   "metadata": {},
   "outputs": [],
   "source": []
  }
 ],
 "metadata": {
  "kernelspec": {
   "display_name": "Python 3",
   "language": "python",
   "name": "python3"
  },
  "language_info": {
   "codemirror_mode": {
    "name": "ipython",
    "version": 3
   },
   "file_extension": ".py",
   "mimetype": "text/x-python",
   "name": "python",
   "nbconvert_exporter": "python",
   "pygments_lexer": "ipython3",
   "version": "3.5.2"
  },
  "widgets": {
   "state": {},
   "version": "1.1.2"
  }
 },
 "nbformat": 4,
 "nbformat_minor": 2
}
